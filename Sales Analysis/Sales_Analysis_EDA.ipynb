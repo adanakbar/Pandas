{
 "cells": [
  {
   "cell_type": "code",
   "execution_count": 8,
   "id": "862d5201-3e6a-467d-994b-ac60fe7cacc6",
   "metadata": {},
   "outputs": [],
   "source": [
    "import pandas as pd\n",
    "import seaborn as sns"
   ]
  },
  {
   "cell_type": "code",
   "execution_count": 9,
   "id": "41b65b5d-1acd-4234-a0fd-ba6368ab7a34",
   "metadata": {},
   "outputs": [
    {
     "data": {
      "text/html": [
       "<div>\n",
       "<style scoped>\n",
       "    .dataframe tbody tr th:only-of-type {\n",
       "        vertical-align: middle;\n",
       "    }\n",
       "\n",
       "    .dataframe tbody tr th {\n",
       "        vertical-align: top;\n",
       "    }\n",
       "\n",
       "    .dataframe thead th {\n",
       "        text-align: right;\n",
       "    }\n",
       "</style>\n",
       "<table border=\"1\" class=\"dataframe\">\n",
       "  <thead>\n",
       "    <tr style=\"text-align: right;\">\n",
       "      <th></th>\n",
       "      <th>Unnamed: 0</th>\n",
       "      <th>Order ID</th>\n",
       "      <th>Product</th>\n",
       "      <th>Quantity Ordered</th>\n",
       "      <th>Price Each</th>\n",
       "      <th>Order Date</th>\n",
       "      <th>Purchase Address</th>\n",
       "      <th>Month</th>\n",
       "      <th>Sales</th>\n",
       "      <th>City</th>\n",
       "      <th>Hour</th>\n",
       "    </tr>\n",
       "  </thead>\n",
       "  <tbody>\n",
       "    <tr>\n",
       "      <th>0</th>\n",
       "      <td>0</td>\n",
       "      <td>295665</td>\n",
       "      <td>Macbook Pro Laptop</td>\n",
       "      <td>1</td>\n",
       "      <td>1700.00</td>\n",
       "      <td>30/12/2019 0:01</td>\n",
       "      <td>136 Church St, New York City, NY 10001</td>\n",
       "      <td>12</td>\n",
       "      <td>1700.00</td>\n",
       "      <td>New York City</td>\n",
       "      <td>0</td>\n",
       "    </tr>\n",
       "    <tr>\n",
       "      <th>1</th>\n",
       "      <td>1</td>\n",
       "      <td>295666</td>\n",
       "      <td>LG Washing Machine</td>\n",
       "      <td>1</td>\n",
       "      <td>600.00</td>\n",
       "      <td>29/12/2019 7:03</td>\n",
       "      <td>562 2nd St, New York City, NY 10001</td>\n",
       "      <td>12</td>\n",
       "      <td>600.00</td>\n",
       "      <td>New York City</td>\n",
       "      <td>7</td>\n",
       "    </tr>\n",
       "    <tr>\n",
       "      <th>2</th>\n",
       "      <td>2</td>\n",
       "      <td>295667</td>\n",
       "      <td>USB-C Charging Cable</td>\n",
       "      <td>1</td>\n",
       "      <td>11.95</td>\n",
       "      <td>12/12/2019 18:21</td>\n",
       "      <td>277 Main St, New York City, NY 10001</td>\n",
       "      <td>12</td>\n",
       "      <td>11.95</td>\n",
       "      <td>New York City</td>\n",
       "      <td>18</td>\n",
       "    </tr>\n",
       "    <tr>\n",
       "      <th>3</th>\n",
       "      <td>3</td>\n",
       "      <td>295668</td>\n",
       "      <td>27in FHD Monitor</td>\n",
       "      <td>1</td>\n",
       "      <td>149.99</td>\n",
       "      <td>22/12/2019 15:13</td>\n",
       "      <td>410 6th St, San Francisco, CA 94016</td>\n",
       "      <td>12</td>\n",
       "      <td>149.99</td>\n",
       "      <td>San Francisco</td>\n",
       "      <td>15</td>\n",
       "    </tr>\n",
       "    <tr>\n",
       "      <th>4</th>\n",
       "      <td>4</td>\n",
       "      <td>295669</td>\n",
       "      <td>USB-C Charging Cable</td>\n",
       "      <td>1</td>\n",
       "      <td>11.95</td>\n",
       "      <td>18/12/2019 12:38</td>\n",
       "      <td>43 Hill St, Atlanta, GA 30301</td>\n",
       "      <td>12</td>\n",
       "      <td>11.95</td>\n",
       "      <td>Atlanta</td>\n",
       "      <td>12</td>\n",
       "    </tr>\n",
       "  </tbody>\n",
       "</table>\n",
       "</div>"
      ],
      "text/plain": [
       "   Unnamed: 0  Order ID               Product  Quantity Ordered  Price Each  \\\n",
       "0           0    295665    Macbook Pro Laptop                 1     1700.00   \n",
       "1           1    295666    LG Washing Machine                 1      600.00   \n",
       "2           2    295667  USB-C Charging Cable                 1       11.95   \n",
       "3           3    295668      27in FHD Monitor                 1      149.99   \n",
       "4           4    295669  USB-C Charging Cable                 1       11.95   \n",
       "\n",
       "         Order Date                        Purchase Address  Month    Sales  \\\n",
       "0   30/12/2019 0:01  136 Church St, New York City, NY 10001     12  1700.00   \n",
       "1   29/12/2019 7:03     562 2nd St, New York City, NY 10001     12   600.00   \n",
       "2  12/12/2019 18:21    277 Main St, New York City, NY 10001     12    11.95   \n",
       "3  22/12/2019 15:13     410 6th St, San Francisco, CA 94016     12   149.99   \n",
       "4  18/12/2019 12:38           43 Hill St, Atlanta, GA 30301     12    11.95   \n",
       "\n",
       "             City  Hour  \n",
       "0   New York City     0  \n",
       "1   New York City     7  \n",
       "2   New York City    18  \n",
       "3   San Francisco    15  \n",
       "4         Atlanta    12  "
      ]
     },
     "execution_count": 9,
     "metadata": {},
     "output_type": "execute_result"
    }
   ],
   "source": [
    "df = pd.read_csv(r\"C:\\Users\\adana\\Downloads\\sales_dataset_raw.csv\")\n",
    "df.head()"
   ]
  },
  {
   "cell_type": "code",
   "execution_count": 10,
   "id": "be6ee30a-6394-46d5-b3a7-c47009f718a8",
   "metadata": {},
   "outputs": [],
   "source": [
    "#After exploring the first few rows of the dataset, I found that the 'Unnamed: 0' column is just a repetition of the existing index in the DataFrame. \n",
    "#So dropped it.\n",
    "df.drop(columns=['Unnamed: 0'],inplace=True)"
   ]
  },
  {
   "cell_type": "code",
   "execution_count": 11,
   "id": "0c821562-cbed-407f-83ce-3c64a0a5eee7",
   "metadata": {},
   "outputs": [],
   "source": [
    "# Renaming columns to standardize naming conventions:\n",
    "# - Replaces spaces with underscores to improve readability and ensure consistency.\n",
    "# - Converts all column names to lowercase for uniformity and to follow Python's best practices.\n",
    "df.columns = df.columns.str.replace(' ', '_').str.lower()"
   ]
  },
  {
   "cell_type": "code",
   "execution_count": 12,
   "id": "3336e901-fc90-4d44-b099-636e24446022",
   "metadata": {},
   "outputs": [
    {
     "data": {
      "text/plain": [
       "0"
      ]
     },
     "execution_count": 12,
     "metadata": {},
     "output_type": "execute_result"
    }
   ],
   "source": [
    "df['sales'].isna().sum()"
   ]
  },
  {
   "cell_type": "code",
   "execution_count": 13,
   "id": "a6c0518e-d600-4b09-8664-2de88f89efef",
   "metadata": {
    "scrolled": true
   },
   "outputs": [
    {
     "data": {
      "text/plain": [
       "order_id              int64\n",
       "product              object\n",
       "quantity_ordered      int64\n",
       "price_each          float64\n",
       "order_date           object\n",
       "purchase_address     object\n",
       "month                 int64\n",
       "sales               float64\n",
       "city                 object\n",
       "hour                  int64\n",
       "dtype: object"
      ]
     },
     "execution_count": 13,
     "metadata": {},
     "output_type": "execute_result"
    }
   ],
   "source": [
    "df.dtypes"
   ]
  },
  {
   "cell_type": "code",
   "execution_count": 14,
   "id": "dea15a3a-7938-4789-a7d6-f3eeb19eef77",
   "metadata": {},
   "outputs": [],
   "source": [
    "# Convert the 'order_date' column from string format to a datetime object. \n",
    "# Setting dayfirst=True ensures that dates are parsed correctly when the day appears before the month.\n",
    "df['order_date'] = pd.to_datetime(df['order_date'], dayfirst=True)\n",
    "\n",
    "# Extract the year and day from the 'order_date' column.\n",
    "# This helps in further time-based analysis, such as yearly or daily trends.\n",
    "df['year'] = df['order_date'].dt.year  \n",
    "df['day'] = df['order_date'].dt.day    \n",
    "df['month']=df['order_date'].dt.month\n",
    "df['weekday'] = df['order_date'].dt.weekday\n",
    "\n",
    "\n",
    "# Define a mapping dictionary to convert numerical month values (1 to 12) into their respective month names.\n",
    "mon_map = {\n",
    "    1: 'January', 2: 'February', 3: 'March', 4: 'April', 5: 'May', 6: 'June',\n",
    "    7: 'July', 8: 'August', 9: 'September', 10: 'October', 11: 'November', 12: 'December'\n",
    "}\n",
    "\n",
    "# Map the numerical month values in the 'month' column to their corresponding month names.\n",
    "# This creates a new column 'month_name' to make the data more readable and useful for analysis.\n",
    "df['month_name'] = df['month'].map(mon_map)\n"
   ]
  },
  {
   "cell_type": "code",
   "execution_count": 15,
   "id": "651fae37-8063-49c3-ba79-807a3a86524c",
   "metadata": {},
   "outputs": [
    {
     "name": "stdout",
     "output_type": "stream",
     "text": [
      "Before Data Cleaning:  [' New York City' ' San Francisco' ' Atlanta' ' Portland' ' Dallas'\n",
      " ' Los Angeles' ' Boston' ' Austin' ' Seattle']\n",
      "Before Data Cleaning:  ['New York' 'San Francisco' 'Atlanta' 'Portland' 'Dallas' 'Los Angeles'\n",
      " 'Boston' 'Austin' 'Seattle']\n"
     ]
    }
   ],
   "source": [
    "# It maps the 'city' column, replacing ' New York City' with 'New York' (removing trailing spaces),\n",
    "# and ensures that other cities' names are cleaned by removing any extra leading/trailing spaces. \n",
    "# This ensures consistency in city names across the dataset.\n",
    "print('Before Data Cleaning: ',df['city'].unique())\n",
    "city_map = {\n",
    "    ' New York City': 'New York',\n",
    "    ' San Francisco': 'San Francisco',\n",
    "    ' Atlanta': 'Atlanta',\n",
    "    ' Portland': 'Portland',\n",
    "    ' Dallas': 'Dallas',\n",
    "    ' Los Angeles': 'Los Angeles',\n",
    "    ' Boston': 'Boston',\n",
    "    ' Austin': 'Austin',\n",
    "    ' Seattle': 'Seattle'\n",
    "}\n",
    "df['city'] = df['city'].map(city_map)\n",
    "print('Before Data Cleaning: ',df['city'].unique())\n"
   ]
  },
  {
   "cell_type": "code",
   "execution_count": 16,
   "id": "9be8f111-7e31-4714-89ac-4ec2a911b5f8",
   "metadata": {},
   "outputs": [
    {
     "data": {
      "text/html": [
       "<div>\n",
       "<style scoped>\n",
       "    .dataframe tbody tr th:only-of-type {\n",
       "        vertical-align: middle;\n",
       "    }\n",
       "\n",
       "    .dataframe tbody tr th {\n",
       "        vertical-align: top;\n",
       "    }\n",
       "\n",
       "    .dataframe thead th {\n",
       "        text-align: right;\n",
       "    }\n",
       "</style>\n",
       "<table border=\"1\" class=\"dataframe\">\n",
       "  <thead>\n",
       "    <tr style=\"text-align: right;\">\n",
       "      <th></th>\n",
       "      <th>order_id</th>\n",
       "      <th>product</th>\n",
       "      <th>quantity_ordered</th>\n",
       "      <th>price_each</th>\n",
       "      <th>order_date</th>\n",
       "      <th>purchase_address</th>\n",
       "      <th>month</th>\n",
       "      <th>sales</th>\n",
       "      <th>city</th>\n",
       "      <th>hour</th>\n",
       "      <th>year</th>\n",
       "      <th>day</th>\n",
       "      <th>weekday</th>\n",
       "      <th>month_name</th>\n",
       "    </tr>\n",
       "  </thead>\n",
       "  <tbody>\n",
       "    <tr>\n",
       "      <th>0</th>\n",
       "      <td>295665</td>\n",
       "      <td>Macbook Pro Laptop</td>\n",
       "      <td>1</td>\n",
       "      <td>1700.00</td>\n",
       "      <td>2019-12-30 00:01:00</td>\n",
       "      <td>136 Church St, New York City, NY 10001</td>\n",
       "      <td>12</td>\n",
       "      <td>1700.00</td>\n",
       "      <td>New York</td>\n",
       "      <td>0</td>\n",
       "      <td>2019</td>\n",
       "      <td>30</td>\n",
       "      <td>0</td>\n",
       "      <td>December</td>\n",
       "    </tr>\n",
       "    <tr>\n",
       "      <th>1</th>\n",
       "      <td>295666</td>\n",
       "      <td>LG Washing Machine</td>\n",
       "      <td>1</td>\n",
       "      <td>600.00</td>\n",
       "      <td>2019-12-29 07:03:00</td>\n",
       "      <td>562 2nd St, New York City, NY 10001</td>\n",
       "      <td>12</td>\n",
       "      <td>600.00</td>\n",
       "      <td>New York</td>\n",
       "      <td>7</td>\n",
       "      <td>2019</td>\n",
       "      <td>29</td>\n",
       "      <td>6</td>\n",
       "      <td>December</td>\n",
       "    </tr>\n",
       "    <tr>\n",
       "      <th>2</th>\n",
       "      <td>295667</td>\n",
       "      <td>USB-C Charging Cable</td>\n",
       "      <td>1</td>\n",
       "      <td>11.95</td>\n",
       "      <td>2019-12-12 18:21:00</td>\n",
       "      <td>277 Main St, New York City, NY 10001</td>\n",
       "      <td>12</td>\n",
       "      <td>11.95</td>\n",
       "      <td>New York</td>\n",
       "      <td>18</td>\n",
       "      <td>2019</td>\n",
       "      <td>12</td>\n",
       "      <td>3</td>\n",
       "      <td>December</td>\n",
       "    </tr>\n",
       "    <tr>\n",
       "      <th>3</th>\n",
       "      <td>295668</td>\n",
       "      <td>27in FHD Monitor</td>\n",
       "      <td>1</td>\n",
       "      <td>149.99</td>\n",
       "      <td>2019-12-22 15:13:00</td>\n",
       "      <td>410 6th St, San Francisco, CA 94016</td>\n",
       "      <td>12</td>\n",
       "      <td>149.99</td>\n",
       "      <td>San Francisco</td>\n",
       "      <td>15</td>\n",
       "      <td>2019</td>\n",
       "      <td>22</td>\n",
       "      <td>6</td>\n",
       "      <td>December</td>\n",
       "    </tr>\n",
       "    <tr>\n",
       "      <th>4</th>\n",
       "      <td>295669</td>\n",
       "      <td>USB-C Charging Cable</td>\n",
       "      <td>1</td>\n",
       "      <td>11.95</td>\n",
       "      <td>2019-12-18 12:38:00</td>\n",
       "      <td>43 Hill St, Atlanta, GA 30301</td>\n",
       "      <td>12</td>\n",
       "      <td>11.95</td>\n",
       "      <td>Atlanta</td>\n",
       "      <td>12</td>\n",
       "      <td>2019</td>\n",
       "      <td>18</td>\n",
       "      <td>2</td>\n",
       "      <td>December</td>\n",
       "    </tr>\n",
       "    <tr>\n",
       "      <th>...</th>\n",
       "      <td>...</td>\n",
       "      <td>...</td>\n",
       "      <td>...</td>\n",
       "      <td>...</td>\n",
       "      <td>...</td>\n",
       "      <td>...</td>\n",
       "      <td>...</td>\n",
       "      <td>...</td>\n",
       "      <td>...</td>\n",
       "      <td>...</td>\n",
       "      <td>...</td>\n",
       "      <td>...</td>\n",
       "      <td>...</td>\n",
       "      <td>...</td>\n",
       "    </tr>\n",
       "    <tr>\n",
       "      <th>185945</th>\n",
       "      <td>222905</td>\n",
       "      <td>AAA Batteries (4-pack)</td>\n",
       "      <td>1</td>\n",
       "      <td>2.99</td>\n",
       "      <td>2019-06-07 19:02:00</td>\n",
       "      <td>795 Pine St, Boston, MA 02215</td>\n",
       "      <td>6</td>\n",
       "      <td>2.99</td>\n",
       "      <td>Boston</td>\n",
       "      <td>19</td>\n",
       "      <td>2019</td>\n",
       "      <td>7</td>\n",
       "      <td>4</td>\n",
       "      <td>June</td>\n",
       "    </tr>\n",
       "    <tr>\n",
       "      <th>185946</th>\n",
       "      <td>222906</td>\n",
       "      <td>27in FHD Monitor</td>\n",
       "      <td>1</td>\n",
       "      <td>149.99</td>\n",
       "      <td>2019-06-01 19:29:00</td>\n",
       "      <td>495 North St, New York City, NY 10001</td>\n",
       "      <td>6</td>\n",
       "      <td>149.99</td>\n",
       "      <td>New York</td>\n",
       "      <td>19</td>\n",
       "      <td>2019</td>\n",
       "      <td>1</td>\n",
       "      <td>5</td>\n",
       "      <td>June</td>\n",
       "    </tr>\n",
       "    <tr>\n",
       "      <th>185947</th>\n",
       "      <td>222907</td>\n",
       "      <td>USB-C Charging Cable</td>\n",
       "      <td>1</td>\n",
       "      <td>11.95</td>\n",
       "      <td>2019-06-22 18:57:00</td>\n",
       "      <td>319 Ridge St, San Francisco, CA 94016</td>\n",
       "      <td>6</td>\n",
       "      <td>11.95</td>\n",
       "      <td>San Francisco</td>\n",
       "      <td>18</td>\n",
       "      <td>2019</td>\n",
       "      <td>22</td>\n",
       "      <td>5</td>\n",
       "      <td>June</td>\n",
       "    </tr>\n",
       "    <tr>\n",
       "      <th>185948</th>\n",
       "      <td>222908</td>\n",
       "      <td>USB-C Charging Cable</td>\n",
       "      <td>1</td>\n",
       "      <td>11.95</td>\n",
       "      <td>2019-06-26 18:35:00</td>\n",
       "      <td>916 Main St, San Francisco, CA 94016</td>\n",
       "      <td>6</td>\n",
       "      <td>11.95</td>\n",
       "      <td>San Francisco</td>\n",
       "      <td>18</td>\n",
       "      <td>2019</td>\n",
       "      <td>26</td>\n",
       "      <td>2</td>\n",
       "      <td>June</td>\n",
       "    </tr>\n",
       "    <tr>\n",
       "      <th>185949</th>\n",
       "      <td>222909</td>\n",
       "      <td>AAA Batteries (4-pack)</td>\n",
       "      <td>1</td>\n",
       "      <td>2.99</td>\n",
       "      <td>2019-06-25 14:33:00</td>\n",
       "      <td>209 11th St, Atlanta, GA 30301</td>\n",
       "      <td>6</td>\n",
       "      <td>2.99</td>\n",
       "      <td>Atlanta</td>\n",
       "      <td>14</td>\n",
       "      <td>2019</td>\n",
       "      <td>25</td>\n",
       "      <td>1</td>\n",
       "      <td>June</td>\n",
       "    </tr>\n",
       "  </tbody>\n",
       "</table>\n",
       "<p>185950 rows × 14 columns</p>\n",
       "</div>"
      ],
      "text/plain": [
       "        order_id                 product  quantity_ordered  price_each  \\\n",
       "0         295665      Macbook Pro Laptop                 1     1700.00   \n",
       "1         295666      LG Washing Machine                 1      600.00   \n",
       "2         295667    USB-C Charging Cable                 1       11.95   \n",
       "3         295668        27in FHD Monitor                 1      149.99   \n",
       "4         295669    USB-C Charging Cable                 1       11.95   \n",
       "...          ...                     ...               ...         ...   \n",
       "185945    222905  AAA Batteries (4-pack)                 1        2.99   \n",
       "185946    222906        27in FHD Monitor                 1      149.99   \n",
       "185947    222907    USB-C Charging Cable                 1       11.95   \n",
       "185948    222908    USB-C Charging Cable                 1       11.95   \n",
       "185949    222909  AAA Batteries (4-pack)                 1        2.99   \n",
       "\n",
       "                order_date                        purchase_address  month  \\\n",
       "0      2019-12-30 00:01:00  136 Church St, New York City, NY 10001     12   \n",
       "1      2019-12-29 07:03:00     562 2nd St, New York City, NY 10001     12   \n",
       "2      2019-12-12 18:21:00    277 Main St, New York City, NY 10001     12   \n",
       "3      2019-12-22 15:13:00     410 6th St, San Francisco, CA 94016     12   \n",
       "4      2019-12-18 12:38:00           43 Hill St, Atlanta, GA 30301     12   \n",
       "...                    ...                                     ...    ...   \n",
       "185945 2019-06-07 19:02:00           795 Pine St, Boston, MA 02215      6   \n",
       "185946 2019-06-01 19:29:00   495 North St, New York City, NY 10001      6   \n",
       "185947 2019-06-22 18:57:00   319 Ridge St, San Francisco, CA 94016      6   \n",
       "185948 2019-06-26 18:35:00    916 Main St, San Francisco, CA 94016      6   \n",
       "185949 2019-06-25 14:33:00          209 11th St, Atlanta, GA 30301      6   \n",
       "\n",
       "          sales           city  hour  year  day  weekday month_name  \n",
       "0       1700.00       New York     0  2019   30        0   December  \n",
       "1        600.00       New York     7  2019   29        6   December  \n",
       "2         11.95       New York    18  2019   12        3   December  \n",
       "3        149.99  San Francisco    15  2019   22        6   December  \n",
       "4         11.95        Atlanta    12  2019   18        2   December  \n",
       "...         ...            ...   ...   ...  ...      ...        ...  \n",
       "185945     2.99         Boston    19  2019    7        4       June  \n",
       "185946   149.99       New York    19  2019    1        5       June  \n",
       "185947    11.95  San Francisco    18  2019   22        5       June  \n",
       "185948    11.95  San Francisco    18  2019   26        2       June  \n",
       "185949     2.99        Atlanta    14  2019   25        1       June  \n",
       "\n",
       "[185950 rows x 14 columns]"
      ]
     },
     "execution_count": 16,
     "metadata": {},
     "output_type": "execute_result"
    }
   ],
   "source": [
    "df"
   ]
  },
  {
   "cell_type": "code",
   "execution_count": 17,
   "id": "6f14b51b-0f21-4aa6-ada6-02fb43ce4096",
   "metadata": {},
   "outputs": [
    {
     "data": {
      "text/plain": [
       "order_id            0\n",
       "product             0\n",
       "quantity_ordered    0\n",
       "price_each          0\n",
       "order_date          0\n",
       "purchase_address    0\n",
       "month               0\n",
       "sales               0\n",
       "city                0\n",
       "hour                0\n",
       "year                0\n",
       "day                 0\n",
       "weekday             0\n",
       "month_name          0\n",
       "dtype: int64"
      ]
     },
     "execution_count": 17,
     "metadata": {},
     "output_type": "execute_result"
    }
   ],
   "source": [
    "# The dataset has been checked for missing values (NA) using the `isna().sum()` method.\n",
    "# The result shows that all columns are free from missing data, as indicated by a sum of 0 for each column.\n",
    "# This ensures that the dataset is complete and ready for further analysis or processing without any gaps in the data.df.isna().sum()\n",
    "\n",
    "df.isna().sum()"
   ]
  },
  {
   "cell_type": "code",
   "execution_count": 18,
   "id": "96382c54-0125-4896-b52a-05c88ec8c92b",
   "metadata": {},
   "outputs": [
    {
     "data": {
      "text/plain": [
       "264"
      ]
     },
     "execution_count": 18,
     "metadata": {},
     "output_type": "execute_result"
    }
   ],
   "source": [
    "# The `duplicated().sum()` method was used to identify duplicate rows in the dataset.\n",
    "# The result of 234 indicates that there are 234 duplicate rows in the dataset.df.duplicated().sum()\n",
    "\n",
    "df.duplicated().sum()"
   ]
  },
  {
   "cell_type": "code",
   "execution_count": 19,
   "id": "32ddf89f-1c49-46c9-b1f5-a059080fbd1c",
   "metadata": {},
   "outputs": [],
   "source": [
    "#Removed these duplicates using `drop_duplicates()` to ensure data integrity.\n",
    "df = df.drop_duplicates()"
   ]
  },
  {
   "cell_type": "code",
   "execution_count": 20,
   "id": "266d8019-7d99-49bb-a28c-c35666b7dc3e",
   "metadata": {},
   "outputs": [
    {
     "data": {
      "text/html": [
       "<div>\n",
       "<style scoped>\n",
       "    .dataframe tbody tr th:only-of-type {\n",
       "        vertical-align: middle;\n",
       "    }\n",
       "\n",
       "    .dataframe tbody tr th {\n",
       "        vertical-align: top;\n",
       "    }\n",
       "\n",
       "    .dataframe thead th {\n",
       "        text-align: right;\n",
       "    }\n",
       "</style>\n",
       "<table border=\"1\" class=\"dataframe\">\n",
       "  <thead>\n",
       "    <tr style=\"text-align: right;\">\n",
       "      <th></th>\n",
       "      <th>order_id</th>\n",
       "      <th>quantity_ordered</th>\n",
       "      <th>price_each</th>\n",
       "      <th>order_date</th>\n",
       "      <th>month</th>\n",
       "      <th>sales</th>\n",
       "      <th>hour</th>\n",
       "      <th>year</th>\n",
       "      <th>day</th>\n",
       "      <th>weekday</th>\n",
       "    </tr>\n",
       "  </thead>\n",
       "  <tbody>\n",
       "    <tr>\n",
       "      <th>count</th>\n",
       "      <td>185686.000000</td>\n",
       "      <td>185686.000000</td>\n",
       "      <td>185686.000000</td>\n",
       "      <td>185686</td>\n",
       "      <td>185686.000000</td>\n",
       "      <td>185686.000000</td>\n",
       "      <td>185686.000000</td>\n",
       "      <td>185686.000000</td>\n",
       "      <td>185686.000000</td>\n",
       "      <td>185686.000000</td>\n",
       "    </tr>\n",
       "    <tr>\n",
       "      <th>mean</th>\n",
       "      <td>230411.376227</td>\n",
       "      <td>1.124544</td>\n",
       "      <td>184.519255</td>\n",
       "      <td>2019-07-18 21:32:06.298051328</td>\n",
       "      <td>7.058653</td>\n",
       "      <td>185.611936</td>\n",
       "      <td>14.412934</td>\n",
       "      <td>2019.000183</td>\n",
       "      <td>15.758662</td>\n",
       "      <td>2.991588</td>\n",
       "    </tr>\n",
       "    <tr>\n",
       "      <th>min</th>\n",
       "      <td>141234.000000</td>\n",
       "      <td>1.000000</td>\n",
       "      <td>2.990000</td>\n",
       "      <td>2019-01-01 03:07:00</td>\n",
       "      <td>1.000000</td>\n",
       "      <td>2.990000</td>\n",
       "      <td>0.000000</td>\n",
       "      <td>2019.000000</td>\n",
       "      <td>1.000000</td>\n",
       "      <td>0.000000</td>\n",
       "    </tr>\n",
       "    <tr>\n",
       "      <th>25%</th>\n",
       "      <td>185833.250000</td>\n",
       "      <td>1.000000</td>\n",
       "      <td>11.950000</td>\n",
       "      <td>2019-04-16 20:55:15</td>\n",
       "      <td>4.000000</td>\n",
       "      <td>11.950000</td>\n",
       "      <td>11.000000</td>\n",
       "      <td>2019.000000</td>\n",
       "      <td>8.000000</td>\n",
       "      <td>1.000000</td>\n",
       "    </tr>\n",
       "    <tr>\n",
       "      <th>50%</th>\n",
       "      <td>230354.500000</td>\n",
       "      <td>1.000000</td>\n",
       "      <td>14.950000</td>\n",
       "      <td>2019-07-17 20:11:00</td>\n",
       "      <td>7.000000</td>\n",
       "      <td>14.950000</td>\n",
       "      <td>15.000000</td>\n",
       "      <td>2019.000000</td>\n",
       "      <td>16.000000</td>\n",
       "      <td>3.000000</td>\n",
       "    </tr>\n",
       "    <tr>\n",
       "      <th>75%</th>\n",
       "      <td>275028.750000</td>\n",
       "      <td>1.000000</td>\n",
       "      <td>150.000000</td>\n",
       "      <td>2019-10-26 08:00:00</td>\n",
       "      <td>10.000000</td>\n",
       "      <td>150.000000</td>\n",
       "      <td>19.000000</td>\n",
       "      <td>2019.000000</td>\n",
       "      <td>23.000000</td>\n",
       "      <td>5.000000</td>\n",
       "    </tr>\n",
       "    <tr>\n",
       "      <th>max</th>\n",
       "      <td>319670.000000</td>\n",
       "      <td>9.000000</td>\n",
       "      <td>1700.000000</td>\n",
       "      <td>2020-01-01 05:13:00</td>\n",
       "      <td>12.000000</td>\n",
       "      <td>3400.000000</td>\n",
       "      <td>23.000000</td>\n",
       "      <td>2020.000000</td>\n",
       "      <td>31.000000</td>\n",
       "      <td>6.000000</td>\n",
       "    </tr>\n",
       "    <tr>\n",
       "      <th>std</th>\n",
       "      <td>51511.717183</td>\n",
       "      <td>0.443069</td>\n",
       "      <td>332.843838</td>\n",
       "      <td>NaN</td>\n",
       "      <td>3.502932</td>\n",
       "      <td>333.032118</td>\n",
       "      <td>5.423329</td>\n",
       "      <td>0.013530</td>\n",
       "      <td>8.782064</td>\n",
       "      <td>2.002009</td>\n",
       "    </tr>\n",
       "  </tbody>\n",
       "</table>\n",
       "</div>"
      ],
      "text/plain": [
       "            order_id  quantity_ordered     price_each  \\\n",
       "count  185686.000000     185686.000000  185686.000000   \n",
       "mean   230411.376227          1.124544     184.519255   \n",
       "min    141234.000000          1.000000       2.990000   \n",
       "25%    185833.250000          1.000000      11.950000   \n",
       "50%    230354.500000          1.000000      14.950000   \n",
       "75%    275028.750000          1.000000     150.000000   \n",
       "max    319670.000000          9.000000    1700.000000   \n",
       "std     51511.717183          0.443069     332.843838   \n",
       "\n",
       "                          order_date          month          sales  \\\n",
       "count                         185686  185686.000000  185686.000000   \n",
       "mean   2019-07-18 21:32:06.298051328       7.058653     185.611936   \n",
       "min              2019-01-01 03:07:00       1.000000       2.990000   \n",
       "25%              2019-04-16 20:55:15       4.000000      11.950000   \n",
       "50%              2019-07-17 20:11:00       7.000000      14.950000   \n",
       "75%              2019-10-26 08:00:00      10.000000     150.000000   \n",
       "max              2020-01-01 05:13:00      12.000000    3400.000000   \n",
       "std                              NaN       3.502932     333.032118   \n",
       "\n",
       "                hour           year            day        weekday  \n",
       "count  185686.000000  185686.000000  185686.000000  185686.000000  \n",
       "mean       14.412934    2019.000183      15.758662       2.991588  \n",
       "min         0.000000    2019.000000       1.000000       0.000000  \n",
       "25%        11.000000    2019.000000       8.000000       1.000000  \n",
       "50%        15.000000    2019.000000      16.000000       3.000000  \n",
       "75%        19.000000    2019.000000      23.000000       5.000000  \n",
       "max        23.000000    2020.000000      31.000000       6.000000  \n",
       "std         5.423329       0.013530       8.782064       2.002009  "
      ]
     },
     "execution_count": 20,
     "metadata": {},
     "output_type": "execute_result"
    }
   ],
   "source": [
    "# Using df.describe() to generate summary statistics for the numerical columns in the DataFrame.\n",
    "df.describe()"
   ]
  },
  {
   "cell_type": "code",
   "execution_count": 21,
   "id": "5c349e78-bb6b-4b3c-89fa-773956749b5a",
   "metadata": {},
   "outputs": [],
   "source": [
    "# Identifying and capping outliers using the IQR method for data consistency.  \n",
    "numeric_cols= ['quantity_ordered', 'price_each', 'sales']\n",
    "for col in numeric_cols:\n",
    "    Q1 = df[col].quantile(0.25)\n",
    "    Q3 = df[col].quantile(0.75)\n",
    "\n",
    "    IQR= Q3 - Q1\n",
    "    \n",
    "    lower_bound= Q1 - 1.5*IQR\n",
    "    upper_bound= Q3 + 1.5*IQR\n",
    "\n",
    "outlier = df[(df[col]< lower_bound) | (df[col]> upper_bound)]\n",
    "\n",
    "df.loc[df[col] < lower_bound, col] = lower_bound\n",
    "df.loc[df[col] > upper_bound, col] = upper_bound\n"
   ]
  },
  {
   "cell_type": "code",
   "execution_count": 22,
   "id": "94897c53-a9b7-4e6c-9432-52628324c087",
   "metadata": {},
   "outputs": [
    {
     "data": {
      "text/html": [
       "<div>\n",
       "<style scoped>\n",
       "    .dataframe tbody tr th:only-of-type {\n",
       "        vertical-align: middle;\n",
       "    }\n",
       "\n",
       "    .dataframe tbody tr th {\n",
       "        vertical-align: top;\n",
       "    }\n",
       "\n",
       "    .dataframe thead th {\n",
       "        text-align: right;\n",
       "    }\n",
       "</style>\n",
       "<table border=\"1\" class=\"dataframe\">\n",
       "  <thead>\n",
       "    <tr style=\"text-align: right;\">\n",
       "      <th></th>\n",
       "      <th>order_id</th>\n",
       "      <th>product</th>\n",
       "      <th>quantity_ordered</th>\n",
       "      <th>price_each</th>\n",
       "      <th>order_date</th>\n",
       "      <th>purchase_address</th>\n",
       "      <th>month</th>\n",
       "      <th>sales</th>\n",
       "      <th>city</th>\n",
       "      <th>hour</th>\n",
       "      <th>year</th>\n",
       "      <th>day</th>\n",
       "      <th>weekday</th>\n",
       "      <th>month_name</th>\n",
       "    </tr>\n",
       "  </thead>\n",
       "  <tbody>\n",
       "    <tr>\n",
       "      <th>0</th>\n",
       "      <td>295665</td>\n",
       "      <td>Macbook Pro Laptop</td>\n",
       "      <td>1</td>\n",
       "      <td>1700.00</td>\n",
       "      <td>2019-12-30 00:01:00</td>\n",
       "      <td>136 Church St, New York City, NY 10001</td>\n",
       "      <td>12</td>\n",
       "      <td>357.075</td>\n",
       "      <td>New York</td>\n",
       "      <td>0</td>\n",
       "      <td>2019</td>\n",
       "      <td>30</td>\n",
       "      <td>0</td>\n",
       "      <td>December</td>\n",
       "    </tr>\n",
       "    <tr>\n",
       "      <th>1</th>\n",
       "      <td>295666</td>\n",
       "      <td>LG Washing Machine</td>\n",
       "      <td>1</td>\n",
       "      <td>600.00</td>\n",
       "      <td>2019-12-29 07:03:00</td>\n",
       "      <td>562 2nd St, New York City, NY 10001</td>\n",
       "      <td>12</td>\n",
       "      <td>357.075</td>\n",
       "      <td>New York</td>\n",
       "      <td>7</td>\n",
       "      <td>2019</td>\n",
       "      <td>29</td>\n",
       "      <td>6</td>\n",
       "      <td>December</td>\n",
       "    </tr>\n",
       "    <tr>\n",
       "      <th>2</th>\n",
       "      <td>295667</td>\n",
       "      <td>USB-C Charging Cable</td>\n",
       "      <td>1</td>\n",
       "      <td>11.95</td>\n",
       "      <td>2019-12-12 18:21:00</td>\n",
       "      <td>277 Main St, New York City, NY 10001</td>\n",
       "      <td>12</td>\n",
       "      <td>11.950</td>\n",
       "      <td>New York</td>\n",
       "      <td>18</td>\n",
       "      <td>2019</td>\n",
       "      <td>12</td>\n",
       "      <td>3</td>\n",
       "      <td>December</td>\n",
       "    </tr>\n",
       "    <tr>\n",
       "      <th>3</th>\n",
       "      <td>295668</td>\n",
       "      <td>27in FHD Monitor</td>\n",
       "      <td>1</td>\n",
       "      <td>149.99</td>\n",
       "      <td>2019-12-22 15:13:00</td>\n",
       "      <td>410 6th St, San Francisco, CA 94016</td>\n",
       "      <td>12</td>\n",
       "      <td>149.990</td>\n",
       "      <td>San Francisco</td>\n",
       "      <td>15</td>\n",
       "      <td>2019</td>\n",
       "      <td>22</td>\n",
       "      <td>6</td>\n",
       "      <td>December</td>\n",
       "    </tr>\n",
       "    <tr>\n",
       "      <th>4</th>\n",
       "      <td>295669</td>\n",
       "      <td>USB-C Charging Cable</td>\n",
       "      <td>1</td>\n",
       "      <td>11.95</td>\n",
       "      <td>2019-12-18 12:38:00</td>\n",
       "      <td>43 Hill St, Atlanta, GA 30301</td>\n",
       "      <td>12</td>\n",
       "      <td>11.950</td>\n",
       "      <td>Atlanta</td>\n",
       "      <td>12</td>\n",
       "      <td>2019</td>\n",
       "      <td>18</td>\n",
       "      <td>2</td>\n",
       "      <td>December</td>\n",
       "    </tr>\n",
       "    <tr>\n",
       "      <th>...</th>\n",
       "      <td>...</td>\n",
       "      <td>...</td>\n",
       "      <td>...</td>\n",
       "      <td>...</td>\n",
       "      <td>...</td>\n",
       "      <td>...</td>\n",
       "      <td>...</td>\n",
       "      <td>...</td>\n",
       "      <td>...</td>\n",
       "      <td>...</td>\n",
       "      <td>...</td>\n",
       "      <td>...</td>\n",
       "      <td>...</td>\n",
       "      <td>...</td>\n",
       "    </tr>\n",
       "    <tr>\n",
       "      <th>185945</th>\n",
       "      <td>222905</td>\n",
       "      <td>AAA Batteries (4-pack)</td>\n",
       "      <td>1</td>\n",
       "      <td>2.99</td>\n",
       "      <td>2019-06-07 19:02:00</td>\n",
       "      <td>795 Pine St, Boston, MA 02215</td>\n",
       "      <td>6</td>\n",
       "      <td>2.990</td>\n",
       "      <td>Boston</td>\n",
       "      <td>19</td>\n",
       "      <td>2019</td>\n",
       "      <td>7</td>\n",
       "      <td>4</td>\n",
       "      <td>June</td>\n",
       "    </tr>\n",
       "    <tr>\n",
       "      <th>185946</th>\n",
       "      <td>222906</td>\n",
       "      <td>27in FHD Monitor</td>\n",
       "      <td>1</td>\n",
       "      <td>149.99</td>\n",
       "      <td>2019-06-01 19:29:00</td>\n",
       "      <td>495 North St, New York City, NY 10001</td>\n",
       "      <td>6</td>\n",
       "      <td>149.990</td>\n",
       "      <td>New York</td>\n",
       "      <td>19</td>\n",
       "      <td>2019</td>\n",
       "      <td>1</td>\n",
       "      <td>5</td>\n",
       "      <td>June</td>\n",
       "    </tr>\n",
       "    <tr>\n",
       "      <th>185947</th>\n",
       "      <td>222907</td>\n",
       "      <td>USB-C Charging Cable</td>\n",
       "      <td>1</td>\n",
       "      <td>11.95</td>\n",
       "      <td>2019-06-22 18:57:00</td>\n",
       "      <td>319 Ridge St, San Francisco, CA 94016</td>\n",
       "      <td>6</td>\n",
       "      <td>11.950</td>\n",
       "      <td>San Francisco</td>\n",
       "      <td>18</td>\n",
       "      <td>2019</td>\n",
       "      <td>22</td>\n",
       "      <td>5</td>\n",
       "      <td>June</td>\n",
       "    </tr>\n",
       "    <tr>\n",
       "      <th>185948</th>\n",
       "      <td>222908</td>\n",
       "      <td>USB-C Charging Cable</td>\n",
       "      <td>1</td>\n",
       "      <td>11.95</td>\n",
       "      <td>2019-06-26 18:35:00</td>\n",
       "      <td>916 Main St, San Francisco, CA 94016</td>\n",
       "      <td>6</td>\n",
       "      <td>11.950</td>\n",
       "      <td>San Francisco</td>\n",
       "      <td>18</td>\n",
       "      <td>2019</td>\n",
       "      <td>26</td>\n",
       "      <td>2</td>\n",
       "      <td>June</td>\n",
       "    </tr>\n",
       "    <tr>\n",
       "      <th>185949</th>\n",
       "      <td>222909</td>\n",
       "      <td>AAA Batteries (4-pack)</td>\n",
       "      <td>1</td>\n",
       "      <td>2.99</td>\n",
       "      <td>2019-06-25 14:33:00</td>\n",
       "      <td>209 11th St, Atlanta, GA 30301</td>\n",
       "      <td>6</td>\n",
       "      <td>2.990</td>\n",
       "      <td>Atlanta</td>\n",
       "      <td>14</td>\n",
       "      <td>2019</td>\n",
       "      <td>25</td>\n",
       "      <td>1</td>\n",
       "      <td>June</td>\n",
       "    </tr>\n",
       "  </tbody>\n",
       "</table>\n",
       "<p>185686 rows × 14 columns</p>\n",
       "</div>"
      ],
      "text/plain": [
       "        order_id                 product  quantity_ordered  price_each  \\\n",
       "0         295665      Macbook Pro Laptop                 1     1700.00   \n",
       "1         295666      LG Washing Machine                 1      600.00   \n",
       "2         295667    USB-C Charging Cable                 1       11.95   \n",
       "3         295668        27in FHD Monitor                 1      149.99   \n",
       "4         295669    USB-C Charging Cable                 1       11.95   \n",
       "...          ...                     ...               ...         ...   \n",
       "185945    222905  AAA Batteries (4-pack)                 1        2.99   \n",
       "185946    222906        27in FHD Monitor                 1      149.99   \n",
       "185947    222907    USB-C Charging Cable                 1       11.95   \n",
       "185948    222908    USB-C Charging Cable                 1       11.95   \n",
       "185949    222909  AAA Batteries (4-pack)                 1        2.99   \n",
       "\n",
       "                order_date                        purchase_address  month  \\\n",
       "0      2019-12-30 00:01:00  136 Church St, New York City, NY 10001     12   \n",
       "1      2019-12-29 07:03:00     562 2nd St, New York City, NY 10001     12   \n",
       "2      2019-12-12 18:21:00    277 Main St, New York City, NY 10001     12   \n",
       "3      2019-12-22 15:13:00     410 6th St, San Francisco, CA 94016     12   \n",
       "4      2019-12-18 12:38:00           43 Hill St, Atlanta, GA 30301     12   \n",
       "...                    ...                                     ...    ...   \n",
       "185945 2019-06-07 19:02:00           795 Pine St, Boston, MA 02215      6   \n",
       "185946 2019-06-01 19:29:00   495 North St, New York City, NY 10001      6   \n",
       "185947 2019-06-22 18:57:00   319 Ridge St, San Francisco, CA 94016      6   \n",
       "185948 2019-06-26 18:35:00    916 Main St, San Francisco, CA 94016      6   \n",
       "185949 2019-06-25 14:33:00          209 11th St, Atlanta, GA 30301      6   \n",
       "\n",
       "          sales           city  hour  year  day  weekday month_name  \n",
       "0       357.075       New York     0  2019   30        0   December  \n",
       "1       357.075       New York     7  2019   29        6   December  \n",
       "2        11.950       New York    18  2019   12        3   December  \n",
       "3       149.990  San Francisco    15  2019   22        6   December  \n",
       "4        11.950        Atlanta    12  2019   18        2   December  \n",
       "...         ...            ...   ...   ...  ...      ...        ...  \n",
       "185945    2.990         Boston    19  2019    7        4       June  \n",
       "185946  149.990       New York    19  2019    1        5       June  \n",
       "185947   11.950  San Francisco    18  2019   22        5       June  \n",
       "185948   11.950  San Francisco    18  2019   26        2       June  \n",
       "185949    2.990        Atlanta    14  2019   25        1       June  \n",
       "\n",
       "[185686 rows x 14 columns]"
      ]
     },
     "execution_count": 22,
     "metadata": {},
     "output_type": "execute_result"
    }
   ],
   "source": [
    "df"
   ]
  },
  {
   "cell_type": "markdown",
   "id": "02e17ce0-b940-4b4e-b7ea-d300e15f0f36",
   "metadata": {},
   "source": [
    "# Product Performance Analysis: Breakdown of Sales by Product"
   ]
  },
  {
   "cell_type": "markdown",
   "id": "5509d350-cdd3-4696-be5f-11a5267d41a5",
   "metadata": {},
   "source": [
    "## Can you provide a breakdown of total sales for each product? Which products are generating the highest revenue?"
   ]
  },
  {
   "cell_type": "code",
   "execution_count": 25,
   "id": "c4264cf6-a2ee-4984-a5f9-8b3b12792ea0",
   "metadata": {},
   "outputs": [
    {
     "name": "stdout",
     "output_type": "stream",
     "text": [
      "                       product        sales\n",
      "0                       iPhone  2442393.000\n",
      "1     Apple Airpods Headphones  2345457.075\n",
      "2       27in 4K Gaming Monitor  2222791.875\n",
      "3       34in Ultrawide Monitor  2204581.050\n",
      "4                 Google Phone  1971768.150\n",
      "5           Macbook Pro Laptop  1685751.075\n",
      "6              ThinkPad Laptop  1473291.450\n",
      "7                Flatscreen TV  1439284.425\n",
      "8   Bose SoundSport Headphones  1342865.700\n",
      "9             27in FHD Monitor  1131074.590\n",
      "10             Vareebadd Phone   737359.875\n",
      "11                20in Monitor   453818.740\n",
      "12    Lightning Charging Cable   346376.550\n",
      "13        USB-C Charging Cable   285975.450\n",
      "14            Wired Headphones   246082.760\n",
      "15          LG Washing Machine   237811.950\n",
      "16                    LG Dryer   230670.450\n",
      "17       AA Batteries (4-pack)   106041.600\n",
      "18      AAA Batteries (4-pack)    92648.140\n"
     ]
    }
   ],
   "source": [
    "prod_sales = df.groupby('product')['sales'].sum().reset_index()\n",
    "prod_sales_sorted = prod_sales.sort_values(by='sales', ascending=False, ignore_index=True)\n",
    "print(prod_sales_sorted)"
   ]
  },
  {
   "cell_type": "markdown",
   "id": "c2ca4b97-fd65-4c25-978b-c349cb8bc030",
   "metadata": {},
   "source": [
    "### Visualization"
   ]
  },
  {
   "cell_type": "code",
   "execution_count": 27,
   "id": "95fea211-41f1-4072-bad1-6991c60e21f0",
   "metadata": {},
   "outputs": [
    {
     "data": {
      "image/png": "[encoded data removed]",
      "text/plain": [
       "<Figure size 640x480 with 1 Axes>"
      ]
     },
     "metadata": {},
     "output_type": "display_data"
    }
   ],
   "source": [
    "import seaborn as sns\n",
    "import matplotlib.pyplot as plt\n",
    "\n",
    "sns.barplot(x='sales', y='product', data=prod_sales_sorted)\n",
    "plt.title('Sales by Product')\n",
    "plt.xlabel('Sales')\n",
    "plt.ylabel('Product')\n",
    "plt.show()"
   ]
  },
  {
   "cell_type": "markdown",
   "id": "a1c2cedc-7d0b-4e46-87f2-0c93efecb694",
   "metadata": {},
   "source": [
    "## Insights"
   ]
  },
  {
   "cell_type": "markdown",
   "id": "603de9cf-7364-496a-801c-30efd96e6eda",
   "metadata": {},
   "source": [
    "#### Based on the total revenue, the top-performing product is iPhone.\n",
    "#### On the other hand, the lowest-performing product is AAA Batteries (4-pack)."
   ]
  },
  {
   "cell_type": "markdown",
   "id": "e840a65c-243e-4e04-9c3b-a6d7a656ff33",
   "metadata": {},
   "source": [
    "# Regional Sales Insights: Analyzing Sales Performance by City"
   ]
  },
  {
   "cell_type": "markdown",
   "id": "51f48e35-8701-4c8c-b762-ae531228e9c2",
   "metadata": {},
   "source": [
    "## How do sales differ across various cities? Which city has the highest sales?"
   ]
  },
  {
   "cell_type": "code",
   "execution_count": 32,
   "id": "32b0fd46-4f91-4126-a5a9-9e0d58c13899",
   "metadata": {},
   "outputs": [
    {
     "name": "stdout",
     "output_type": "stream",
     "text": [
      "            city        sales\n",
      "0  San Francisco  5025194.915\n",
      "1    Los Angeles  3315191.935\n",
      "2       New York  2830614.820\n",
      "3         Boston  2244034.270\n",
      "4        Atlanta  1694984.180\n",
      "5        Seattle  1693903.140\n",
      "6         Dallas  1682350.090\n",
      "7       Portland  1401919.725\n",
      "8         Austin  1107850.830\n"
     ]
    }
   ],
   "source": [
    "city_sales = df.groupby('city')['sales'].sum().reset_index()\n",
    "city_sales_sorted = city_sales.sort_values(by='sales', ascending=False, ignore_index=True)\n",
    "print(city_sales_sorted)"
   ]
  },
  {
   "cell_type": "markdown",
   "id": "4d91f90c-edd7-4033-b20f-4f2d1a088f9c",
   "metadata": {},
   "source": [
    "### Visualization"
   ]
  },
  {
   "cell_type": "code",
   "execution_count": 34,
   "id": "d3743b40-5575-42d4-98d4-24334736c6cc",
   "metadata": {},
   "outputs": [
    {
     "data": {
      "image/png": "[encoded data removed]",
      "text/plain": [
       "<Figure size 640x480 with 1 Axes>"
      ]
     },
     "metadata": {},
     "output_type": "display_data"
    }
   ],
   "source": [
    "import seaborn as sns\n",
    "import matplotlib.pyplot as plt\n",
    "\n",
    "sns.barplot(x='sales', y='city', data=city_sales_sorted)\n",
    "plt.title('Sales by City')\n",
    "plt.xlabel('Sales')\n",
    "plt.ylabel('City')\n",
    "plt.show()"
   ]
  },
  {
   "cell_type": "markdown",
   "id": "2d164c99-d5fd-48fb-9090-24f91dd43bd3",
   "metadata": {},
   "source": [
    "## Insights\n",
    "#### The city with the highest sales is San Francisco with a total sales value of 5025194.915.  \n",
    "#### This suggests that San Francisco is a key market, likely due to factors such as higher population density, greater purchasing power, or the presence of tech companies that drive demand.\n"
   ]
  },
  {
   "cell_type": "markdown",
   "id": "9abb8a77-c0d7-47f2-9798-a66ecb649bd0",
   "metadata": {},
   "source": [
    "# Time Series Analysis: Sales Fluctuations by Month, Day, and Hour\n"
   ]
  },
  {
   "cell_type": "markdown",
   "id": "9bb258e5-b29f-41ba-87d3-f12df4141af3",
   "metadata": {},
   "source": [
    "## How do sales fluctuate by month, day, and hour? Is there any seasonality or peak sales period?"
   ]
  },
  {
   "cell_type": "code",
   "execution_count": 38,
   "id": "cd85c821-e553-4180-90e0-f62704079ab7",
   "metadata": {},
   "outputs": [],
   "source": [
    "monthly_sales = df.groupby('month')['sales'].sum().reset_index()\n",
    "daily_sales = df.groupby('day')['sales'].sum().reset_index()\n",
    "hourly_sales = df.groupby('hour')['sales'].sum().reset_index()"
   ]
  },
  {
   "cell_type": "markdown",
   "id": "a507fd70-3ab5-446d-8ac1-598895553a59",
   "metadata": {},
   "source": [
    "### Visualization"
   ]
  },
  {
   "cell_type": "markdown",
   "id": "56d9e6ec-bed7-4b61-a67b-840d48af0c9f",
   "metadata": {},
   "source": [
    "**Monthly Sales Trend**"
   ]
  },
  {
   "cell_type": "markdown",
   "id": "95c98c15-a697-4e6a-9d61-220ec0925139",
   "metadata": {},
   "source": [
    "sns.lineplot(x='month', y='sales', data=monthly_sales)"
   ]
  },
  {
   "cell_type": "markdown",
   "id": "7eb2dc36-d196-4360-a52b-082ed7eac130",
   "metadata": {},
   "source": [
    "**Daily Sales Trend**"
   ]
  },
  {
   "cell_type": "code",
   "execution_count": 43,
   "id": "88eadce8-0782-4ab2-a2f1-8b5e7b166cbc",
   "metadata": {},
   "outputs": [
    {
     "data": {
      "text/plain": [
       "<Axes: xlabel='day', ylabel='sales'>"
      ]
     },
     "execution_count": 43,
     "metadata": {},
     "output_type": "execute_result"
    },
    {
     "data": {
      "image/png": "[encoded data removed]",
      "text/plain": [
       "<Figure size 640x480 with 1 Axes>"
      ]
     },
     "metadata": {},
     "output_type": "display_data"
    }
   ],
   "source": [
    "sns.lineplot(x='day', y='sales', data=daily_sales)"
   ]
  },
  {
   "cell_type": "markdown",
   "id": "1f78ee66-26d9-4426-93d0-199f4ba1fdf8",
   "metadata": {},
   "source": [
    "**Hourly Sales Trend**"
   ]
  },
  {
   "cell_type": "code",
   "execution_count": 45,
   "id": "e2fb1042-8ffb-40df-bdcb-03ac62220e9b",
   "metadata": {},
   "outputs": [
    {
     "data": {
      "text/plain": [
       "<Axes: xlabel='hour', ylabel='sales'>"
      ]
     },
     "execution_count": 45,
     "metadata": {},
     "output_type": "execute_result"
    },
    {
     "data": {
      "image/png": "[encoded data removed]",
      "text/plain": [
       "<Figure size 640x480 with 1 Axes>"
      ]
     },
     "metadata": {},
     "output_type": "display_data"
    }
   ],
   "source": [
    "sns.lineplot(x='hour', y='sales', data=hourly_sales)"
   ]
  },
  {
   "cell_type": "markdown",
   "id": "bc08a766-def3-407a-873e-366edd29aaeb",
   "metadata": {},
   "source": [
    "# Revenue Trends: Year-over-Year Comparison of Sales\n"
   ]
  },
  {
   "cell_type": "markdown",
   "id": "6e64d0a0-d75b-49c3-a78d-61bf30f010ef",
   "metadata": {},
   "source": [
    "## Can you compare sales trends over different years? Is there a growth or decline in revenue year-over-year?"
   ]
  },
  {
   "cell_type": "code",
   "execution_count": 48,
   "id": "16e48bd6-0354-48fc-a199-e40073b68af2",
   "metadata": {},
   "outputs": [
    {
     "name": "stdout",
     "output_type": "stream",
     "text": [
      "   year       sales\n",
      "0  2019  20867408.0\n",
      "1  2020      5016.0\n"
     ]
    }
   ],
   "source": [
    "df.loc[:, 'sales'] = df['sales'].astype(int)\n",
    "year_sales = df.groupby('year')['sales'].sum().reset_index()\n",
    "print(year_sales)"
   ]
  },
  {
   "cell_type": "markdown",
   "id": "e8372324-66f1-4c95-87f2-1ec5b39faf16",
   "metadata": {},
   "source": [
    "### Visualization"
   ]
  },
  {
   "cell_type": "code",
   "execution_count": 50,
   "id": "917bd70d-c4b9-43cc-a1b8-a0eb7bdc9371",
   "metadata": {},
   "outputs": [
    {
     "data": {
      "text/plain": [
       "<Axes: xlabel='year', ylabel='sales'>"
      ]
     },
     "execution_count": 50,
     "metadata": {},
     "output_type": "execute_result"
    },
    {
     "data": {
      "image/png": "[encoded data removed]",
      "text/plain": [
       "<Figure size 640x480 with 1 Axes>"
      ]
     },
     "metadata": {},
     "output_type": "display_data"
    }
   ],
   "source": [
    "sns.lineplot(x='year', y='sales', data=year_sales)"
   ]
  },
  {
   "cell_type": "markdown",
   "id": "ed087d58-c569-4a63-98b5-939e94d9a617",
   "metadata": {},
   "source": [
    "# Pivot Tables for Insights (Average Sales per Product across Cities)"
   ]
  },
  {
   "cell_type": "markdown",
   "id": "998c6b94-dd58-48e7-8e1b-f727b689277f",
   "metadata": {},
   "source": [
    "## Can you create a pivot table to show average sales per product across different cities or months?"
   ]
  },
  {
   "cell_type": "code",
   "execution_count": 53,
   "id": "dad510c3-3063-4d6d-a06e-1db340b9137b",
   "metadata": {},
   "outputs": [
    {
     "data": {
      "text/html": [
       "<div>\n",
       "<style scoped>\n",
       "    .dataframe tbody tr th:only-of-type {\n",
       "        vertical-align: middle;\n",
       "    }\n",
       "\n",
       "    .dataframe tbody tr th {\n",
       "        vertical-align: top;\n",
       "    }\n",
       "\n",
       "    .dataframe thead th {\n",
       "        text-align: right;\n",
       "    }\n",
       "</style>\n",
       "<table border=\"1\" class=\"dataframe\">\n",
       "  <thead>\n",
       "    <tr style=\"text-align: right;\">\n",
       "      <th>city</th>\n",
       "      <th>Atlanta</th>\n",
       "      <th>Austin</th>\n",
       "      <th>Boston</th>\n",
       "      <th>Dallas</th>\n",
       "      <th>Los Angeles</th>\n",
       "      <th>New York</th>\n",
       "      <th>Portland</th>\n",
       "      <th>San Francisco</th>\n",
       "      <th>Seattle</th>\n",
       "    </tr>\n",
       "    <tr>\n",
       "      <th>product</th>\n",
       "      <th></th>\n",
       "      <th></th>\n",
       "      <th></th>\n",
       "      <th></th>\n",
       "      <th></th>\n",
       "      <th></th>\n",
       "      <th></th>\n",
       "      <th></th>\n",
       "      <th></th>\n",
       "    </tr>\n",
       "  </thead>\n",
       "  <tbody>\n",
       "    <tr>\n",
       "      <th>20in Monitor</th>\n",
       "      <td>110.305638</td>\n",
       "      <td>109.964912</td>\n",
       "      <td>109.000000</td>\n",
       "      <td>109.973451</td>\n",
       "      <td>109.672783</td>\n",
       "      <td>109.990991</td>\n",
       "      <td>109.398551</td>\n",
       "      <td>109.775428</td>\n",
       "      <td>109.683230</td>\n",
       "    </tr>\n",
       "    <tr>\n",
       "      <th>27in 4K Gaming Monitor</th>\n",
       "      <td>357.000000</td>\n",
       "      <td>357.000000</td>\n",
       "      <td>357.000000</td>\n",
       "      <td>357.000000</td>\n",
       "      <td>357.000000</td>\n",
       "      <td>357.000000</td>\n",
       "      <td>357.000000</td>\n",
       "      <td>357.000000</td>\n",
       "      <td>357.000000</td>\n",
       "    </tr>\n",
       "    <tr>\n",
       "      <th>27in FHD Monitor</th>\n",
       "      <td>150.029160</td>\n",
       "      <td>150.694915</td>\n",
       "      <td>149.756620</td>\n",
       "      <td>150.810345</td>\n",
       "      <td>149.740132</td>\n",
       "      <td>149.420954</td>\n",
       "      <td>149.569260</td>\n",
       "      <td>149.917176</td>\n",
       "      <td>149.519931</td>\n",
       "    </tr>\n",
       "    <tr>\n",
       "      <th>34in Ultrawide Monitor</th>\n",
       "      <td>357.000000</td>\n",
       "      <td>357.000000</td>\n",
       "      <td>357.000000</td>\n",
       "      <td>357.000000</td>\n",
       "      <td>357.000000</td>\n",
       "      <td>357.000000</td>\n",
       "      <td>357.000000</td>\n",
       "      <td>357.000000</td>\n",
       "      <td>357.000000</td>\n",
       "    </tr>\n",
       "    <tr>\n",
       "      <th>AA Batteries (4-pack)</th>\n",
       "      <td>4.281156</td>\n",
       "      <td>4.315888</td>\n",
       "      <td>4.449774</td>\n",
       "      <td>4.341608</td>\n",
       "      <td>4.399087</td>\n",
       "      <td>4.428571</td>\n",
       "      <td>4.397356</td>\n",
       "      <td>4.349398</td>\n",
       "      <td>4.338235</td>\n",
       "    </tr>\n",
       "  </tbody>\n",
       "</table>\n",
       "</div>"
      ],
      "text/plain": [
       "city                       Atlanta      Austin      Boston      Dallas  \\\n",
       "product                                                                  \n",
       "20in Monitor            110.305638  109.964912  109.000000  109.973451   \n",
       "27in 4K Gaming Monitor  357.000000  357.000000  357.000000  357.000000   \n",
       "27in FHD Monitor        150.029160  150.694915  149.756620  150.810345   \n",
       "34in Ultrawide Monitor  357.000000  357.000000  357.000000  357.000000   \n",
       "AA Batteries (4-pack)     4.281156    4.315888    4.449774    4.341608   \n",
       "\n",
       "city                    Los Angeles    New York    Portland  San Francisco  \\\n",
       "product                                                                      \n",
       "20in Monitor             109.672783  109.990991  109.398551     109.775428   \n",
       "27in 4K Gaming Monitor   357.000000  357.000000  357.000000     357.000000   \n",
       "27in FHD Monitor         149.740132  149.420954  149.569260     149.917176   \n",
       "34in Ultrawide Monitor   357.000000  357.000000  357.000000     357.000000   \n",
       "AA Batteries (4-pack)      4.399087    4.428571    4.397356       4.349398   \n",
       "\n",
       "city                       Seattle  \n",
       "product                             \n",
       "20in Monitor            109.683230  \n",
       "27in 4K Gaming Monitor  357.000000  \n",
       "27in FHD Monitor        149.519931  \n",
       "34in Ultrawide Monitor  357.000000  \n",
       "AA Batteries (4-pack)     4.338235  "
      ]
     },
     "execution_count": 53,
     "metadata": {},
     "output_type": "execute_result"
    }
   ],
   "source": [
    "pivot_tab = pd.pivot_table(df,values='sales',index='product',columns='city',aggfunc='mean')\n",
    "pivot_tab.head()"
   ]
  },
  {
   "cell_type": "code",
   "execution_count": 54,
   "id": "74942da7-0bf2-4a5e-a61a-ae62622e511f",
   "metadata": {},
   "outputs": [
    {
     "data": {
      "text/html": [
       "<div>\n",
       "<style scoped>\n",
       "    .dataframe tbody tr th:only-of-type {\n",
       "        vertical-align: middle;\n",
       "    }\n",
       "\n",
       "    .dataframe tbody tr th {\n",
       "        vertical-align: top;\n",
       "    }\n",
       "\n",
       "    .dataframe thead th {\n",
       "        text-align: right;\n",
       "    }\n",
       "</style>\n",
       "<table border=\"1\" class=\"dataframe\">\n",
       "  <thead>\n",
       "    <tr style=\"text-align: right;\">\n",
       "      <th>month_name</th>\n",
       "      <th>April</th>\n",
       "      <th>August</th>\n",
       "      <th>December</th>\n",
       "      <th>February</th>\n",
       "      <th>January</th>\n",
       "      <th>July</th>\n",
       "      <th>June</th>\n",
       "      <th>March</th>\n",
       "      <th>May</th>\n",
       "      <th>November</th>\n",
       "      <th>October</th>\n",
       "      <th>September</th>\n",
       "    </tr>\n",
       "    <tr>\n",
       "      <th>product</th>\n",
       "      <th></th>\n",
       "      <th></th>\n",
       "      <th></th>\n",
       "      <th></th>\n",
       "      <th></th>\n",
       "      <th></th>\n",
       "      <th></th>\n",
       "      <th></th>\n",
       "      <th></th>\n",
       "      <th></th>\n",
       "      <th></th>\n",
       "      <th></th>\n",
       "    </tr>\n",
       "  </thead>\n",
       "  <tbody>\n",
       "    <tr>\n",
       "      <th>20in Monitor</th>\n",
       "      <td>110.421189</td>\n",
       "      <td>110.279070</td>\n",
       "      <td>109.388007</td>\n",
       "      <td>109.448980</td>\n",
       "      <td>110.534884</td>\n",
       "      <td>110.018519</td>\n",
       "      <td>109.342679</td>\n",
       "      <td>109.681115</td>\n",
       "      <td>109.976331</td>\n",
       "      <td>109.262530</td>\n",
       "      <td>109.257611</td>\n",
       "      <td>110.204380</td>\n",
       "    </tr>\n",
       "    <tr>\n",
       "      <th>27in 4K Gaming Monitor</th>\n",
       "      <td>357.000000</td>\n",
       "      <td>357.000000</td>\n",
       "      <td>357.000000</td>\n",
       "      <td>357.000000</td>\n",
       "      <td>357.000000</td>\n",
       "      <td>357.000000</td>\n",
       "      <td>357.000000</td>\n",
       "      <td>357.000000</td>\n",
       "      <td>357.000000</td>\n",
       "      <td>357.000000</td>\n",
       "      <td>357.000000</td>\n",
       "      <td>357.000000</td>\n",
       "    </tr>\n",
       "    <tr>\n",
       "      <th>27in FHD Monitor</th>\n",
       "      <td>149.613915</td>\n",
       "      <td>150.859504</td>\n",
       "      <td>149.469239</td>\n",
       "      <td>150.273885</td>\n",
       "      <td>149.356295</td>\n",
       "      <td>149.998336</td>\n",
       "      <td>150.604278</td>\n",
       "      <td>149.495868</td>\n",
       "      <td>149.218023</td>\n",
       "      <td>150.904090</td>\n",
       "      <td>149.190355</td>\n",
       "      <td>149.941423</td>\n",
       "    </tr>\n",
       "    <tr>\n",
       "      <th>34in Ultrawide Monitor</th>\n",
       "      <td>357.000000</td>\n",
       "      <td>357.000000</td>\n",
       "      <td>357.000000</td>\n",
       "      <td>357.000000</td>\n",
       "      <td>357.000000</td>\n",
       "      <td>357.000000</td>\n",
       "      <td>357.000000</td>\n",
       "      <td>357.000000</td>\n",
       "      <td>357.000000</td>\n",
       "      <td>357.000000</td>\n",
       "      <td>357.000000</td>\n",
       "      <td>357.000000</td>\n",
       "    </tr>\n",
       "    <tr>\n",
       "      <th>AA Batteries (4-pack)</th>\n",
       "      <td>4.470417</td>\n",
       "      <td>4.388357</td>\n",
       "      <td>4.476804</td>\n",
       "      <td>4.441130</td>\n",
       "      <td>4.488910</td>\n",
       "      <td>4.324116</td>\n",
       "      <td>4.436364</td>\n",
       "      <td>4.294258</td>\n",
       "      <td>4.234487</td>\n",
       "      <td>4.327919</td>\n",
       "      <td>4.248214</td>\n",
       "      <td>4.388128</td>\n",
       "    </tr>\n",
       "  </tbody>\n",
       "</table>\n",
       "</div>"
      ],
      "text/plain": [
       "month_name                   April      August    December    February  \\\n",
       "product                                                                  \n",
       "20in Monitor            110.421189  110.279070  109.388007  109.448980   \n",
       "27in 4K Gaming Monitor  357.000000  357.000000  357.000000  357.000000   \n",
       "27in FHD Monitor        149.613915  150.859504  149.469239  150.273885   \n",
       "34in Ultrawide Monitor  357.000000  357.000000  357.000000  357.000000   \n",
       "AA Batteries (4-pack)     4.470417    4.388357    4.476804    4.441130   \n",
       "\n",
       "month_name                 January        July        June       March  \\\n",
       "product                                                                  \n",
       "20in Monitor            110.534884  110.018519  109.342679  109.681115   \n",
       "27in 4K Gaming Monitor  357.000000  357.000000  357.000000  357.000000   \n",
       "27in FHD Monitor        149.356295  149.998336  150.604278  149.495868   \n",
       "34in Ultrawide Monitor  357.000000  357.000000  357.000000  357.000000   \n",
       "AA Batteries (4-pack)     4.488910    4.324116    4.436364    4.294258   \n",
       "\n",
       "month_name                     May    November     October   September  \n",
       "product                                                                 \n",
       "20in Monitor            109.976331  109.262530  109.257611  110.204380  \n",
       "27in 4K Gaming Monitor  357.000000  357.000000  357.000000  357.000000  \n",
       "27in FHD Monitor        149.218023  150.904090  149.190355  149.941423  \n",
       "34in Ultrawide Monitor  357.000000  357.000000  357.000000  357.000000  \n",
       "AA Batteries (4-pack)     4.234487    4.327919    4.248214    4.388128  "
      ]
     },
     "execution_count": 54,
     "metadata": {},
     "output_type": "execute_result"
    }
   ],
   "source": [
    "pivot_tab = pd.pivot_table(df,values='sales',index='product',columns='month_name',aggfunc='mean')\n",
    "pivot_tab.head()"
   ]
  },
  {
   "cell_type": "markdown",
   "id": "14df158c-2c5a-4c6c-9f58-57d8e21517ba",
   "metadata": {},
   "source": [
    "# Sales Behavior: Weekday vs. Weekend Sales Trends"
   ]
  },
  {
   "cell_type": "markdown",
   "id": "3fc7a7c6-bc33-417e-9efe-1180c7bf85c8",
   "metadata": {},
   "source": [
    "## Do we observe any significant differences in sales on weekdays versus weekends?"
   ]
  },
  {
   "cell_type": "code",
   "execution_count": 57,
   "id": "498eb87b-591a-4d58-8139-c0a02fd68688",
   "metadata": {},
   "outputs": [
    {
     "name": "stderr",
     "output_type": "stream",
     "text": [
      "C:\\Users\\adana\\AppData\\Local\\Temp\\ipykernel_15000\\2269059247.py:1: SettingWithCopyWarning: \n",
      "A value is trying to be set on a copy of a slice from a DataFrame.\n",
      "Try using .loc[row_indexer,col_indexer] = value instead\n",
      "\n",
      "See the caveats in the documentation: https://pandas.pydata.org/pandas-docs/stable/user_guide/indexing.html#returning-a-view-versus-a-copy\n",
      "  df.loc[:,'day_type'] = df['weekday'].apply(lambda x: 'Weekend' if x>=5 else 'Weekday')\n"
     ]
    }
   ],
   "source": [
    "df.loc[:,'day_type'] = df['weekday'].apply(lambda x: 'Weekend' if x>=5 else 'Weekday')\n",
    "weekday_sales= df.groupby('day_type')['sales'].sum().reset_index()"
   ]
  },
  {
   "cell_type": "markdown",
   "id": "33945524-5c5e-4d94-b55f-2855b88d4af9",
   "metadata": {},
   "source": [
    "### Visualization"
   ]
  },
  {
   "cell_type": "code",
   "execution_count": 59,
   "id": "bf8a2c1e-c5ef-453b-b76c-fd6d3ab054e5",
   "metadata": {},
   "outputs": [
    {
     "data": {
      "text/plain": [
       "<Axes: xlabel='day_type', ylabel='sales'>"
      ]
     },
     "execution_count": 59,
     "metadata": {},
     "output_type": "execute_result"
    },
    {
     "data": {
      "image/png": "[encoded data removed]",
      "text/plain": [
       "<Figure size 640x480 with 1 Axes>"
      ]
     },
     "metadata": {},
     "output_type": "display_data"
    }
   ],
   "source": [
    "sns.barplot(x='day_type', y='sales', data=weekday_sales)"
   ]
  }
 ],
 "metadata": {
  "kernelspec": {
   "display_name": "Python 3 (ipykernel)",
   "language": "python",
   "name": "python3"
  },
  "language_info": {
   "codemirror_mode": {
    "name": "ipython",
    "version": 3
   },
   "file_extension": ".py",
   "mimetype": "text/x-python",
   "name": "python",
   "nbconvert_exporter": "python",
   "pygments_lexer": "ipython3",
   "version": "3.12.4"
  }
 },
 "nbformat": 4,
 "nbformat_minor": 5
}
